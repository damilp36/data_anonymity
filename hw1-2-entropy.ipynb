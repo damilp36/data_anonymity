{
 "cells": [
  {
   "cell_type": "code",
   "execution_count": 1224,
   "metadata": {
    "_cell_guid": "b1076dfc-b9ad-4769-8c92-a6c4dae69d19",
    "_uuid": "8f2839f25d086af736a60e9eeb907d3b93b6e0e5",
    "execution": {
     "iopub.execute_input": "2023-09-19T15:56:03.201965Z",
     "iopub.status.busy": "2023-09-19T15:56:03.201592Z",
     "iopub.status.idle": "2023-09-19T15:56:03.592460Z",
     "shell.execute_reply": "2023-09-19T15:56:03.591479Z",
     "shell.execute_reply.started": "2023-09-19T15:56:03.201930Z"
    }
   },
   "outputs": [],
   "source": [
    "# Import Libraries\n",
    "import numpy as np # linear algebra\n",
    "import math\n",
    "import pandas as pd # data processing, CSV file I/O (e.g. pd.read_csv)"
   ]
  },
  {
   "cell_type": "markdown",
   "metadata": {},
   "source": [
    "# IMPORT DATASET USING PANDAS"
   ]
  },
  {
   "cell_type": "code",
   "execution_count": 1225,
   "metadata": {
    "execution": {
     "iopub.execute_input": "2023-09-19T15:56:03.600072Z",
     "iopub.status.busy": "2023-09-19T15:56:03.599689Z",
     "iopub.status.idle": "2023-09-19T15:56:03.605605Z",
     "shell.execute_reply": "2023-09-19T15:56:03.604506Z",
     "shell.execute_reply.started": "2023-09-19T15:56:03.600042Z"
    }
   },
   "outputs": [],
   "source": [
    "# define file path\n",
    "file_path = 'adult.data'"
   ]
  },
  {
   "cell_type": "code",
   "execution_count": 1226,
   "metadata": {
    "execution": {
     "iopub.execute_input": "2023-09-19T15:56:03.608107Z",
     "iopub.status.busy": "2023-09-19T15:56:03.607345Z",
     "iopub.status.idle": "2023-09-19T15:56:03.616542Z",
     "shell.execute_reply": "2023-09-19T15:56:03.615584Z",
     "shell.execute_reply.started": "2023-09-19T15:56:03.608050Z"
    }
   },
   "outputs": [],
   "source": [
    "# Define column names for the dataset\n",
    "column_names = [\n",
    "    'Age', 'Workclass', 'FinalWeight', 'Education', 'EducationNum',\n",
    "    'MaritalStatus', 'Occupation', 'Relationship', 'Race', 'Gender',\n",
    "    'CapitalGain', 'CapitalLoss', 'HoursPerWeek', 'NativeCountry', 'Income'\n",
    "]"
   ]
  },
  {
   "cell_type": "code",
   "execution_count": 1227,
   "metadata": {
    "execution": {
     "iopub.execute_input": "2023-09-19T15:56:03.620515Z",
     "iopub.status.busy": "2023-09-19T15:56:03.620149Z",
     "iopub.status.idle": "2023-09-19T15:56:04.218893Z",
     "shell.execute_reply": "2023-09-19T15:56:04.217993Z",
     "shell.execute_reply.started": "2023-09-19T15:56:03.620473Z"
    }
   },
   "outputs": [
    {
     "name": "stdout",
     "output_type": "stream",
     "text": [
      "Number of records in the dataset: 32561\n"
     ]
    }
   ],
   "source": [
    "# Load the dataset\n",
    "df = pd.read_csv(\n",
    "    file_path,\n",
    "    names=column_names,\n",
    "    sep=',\\s*',\n",
    "    engine='python'\n",
    ")\n",
    "number_of_records = len(df)\n",
    "print(f\"Number of records in the dataset: {number_of_records}\")"
   ]
  },
  {
   "cell_type": "markdown",
   "metadata": {},
   "source": [
    "## Display Data"
   ]
  },
  {
   "cell_type": "code",
   "execution_count": 1228,
   "metadata": {
    "execution": {
     "iopub.execute_input": "2023-09-19T15:56:04.221153Z",
     "iopub.status.busy": "2023-09-19T15:56:04.220605Z",
     "iopub.status.idle": "2023-09-19T15:56:04.233150Z",
     "shell.execute_reply": "2023-09-19T15:56:04.232134Z",
     "shell.execute_reply.started": "2023-09-19T15:56:04.221111Z"
    }
   },
   "outputs": [
    {
     "name": "stdout",
     "output_type": "stream",
     "text": [
      "   Age         Workclass  FinalWeight  Education  EducationNum  \\\n",
      "0   39         State-gov        77516  Bachelors            13   \n",
      "1   50  Self-emp-not-inc        83311  Bachelors            13   \n",
      "2   38           Private       215646    HS-grad             9   \n",
      "3   53           Private       234721       11th             7   \n",
      "4   28           Private       338409  Bachelors            13   \n",
      "\n",
      "        MaritalStatus         Occupation   Relationship   Race  Gender  \\\n",
      "0       Never-married       Adm-clerical  Not-in-family  White    Male   \n",
      "1  Married-civ-spouse    Exec-managerial        Husband  White    Male   \n",
      "2            Divorced  Handlers-cleaners  Not-in-family  White    Male   \n",
      "3  Married-civ-spouse  Handlers-cleaners        Husband  Black    Male   \n",
      "4  Married-civ-spouse     Prof-specialty           Wife  Black  Female   \n",
      "\n",
      "   CapitalGain  CapitalLoss  HoursPerWeek  NativeCountry Income  \n",
      "0         2174            0            40  United-States  <=50K  \n",
      "1            0            0            13  United-States  <=50K  \n",
      "2            0            0            40  United-States  <=50K  \n",
      "3            0            0            40  United-States  <=50K  \n",
      "4            0            0            40           Cuba  <=50K  \n"
     ]
    }
   ],
   "source": [
    "# Print the first few rows of the DataFrame in a formatted way\n",
    "print(df.head())"
   ]
  },
  {
   "cell_type": "markdown",
   "metadata": {},
   "source": [
    "# k-Anonymity"
   ]
  },
  {
   "cell_type": "markdown",
   "metadata": {},
   "source": [
    "## Handle Missing Values"
   ]
  },
  {
   "cell_type": "code",
   "execution_count": 1229,
   "metadata": {
    "execution": {
     "iopub.execute_input": "2023-09-19T15:56:04.235100Z",
     "iopub.status.busy": "2023-09-19T15:56:04.234696Z",
     "iopub.status.idle": "2023-09-19T15:56:04.289504Z",
     "shell.execute_reply": "2023-09-19T15:56:04.288713Z",
     "shell.execute_reply.started": "2023-09-19T15:56:04.235053Z"
    }
   },
   "outputs": [],
   "source": [
    "column_name = 'Occupation'\n",
    "df = df[(df[column_name] != '') & (df[column_name] != '?')]\n"
   ]
  },
  {
   "cell_type": "markdown",
   "metadata": {},
   "source": [
    "## Implement k-anonymity algorithm"
   ]
  },
  {
   "cell_type": "code",
   "execution_count": 1230,
   "metadata": {
    "execution": {
     "iopub.execute_input": "2023-09-19T15:56:04.291500Z",
     "iopub.status.busy": "2023-09-19T15:56:04.290877Z",
     "iopub.status.idle": "2023-09-19T15:56:04.332806Z",
     "shell.execute_reply": "2023-09-19T15:56:04.331922Z",
     "shell.execute_reply.started": "2023-09-19T15:56:04.291463Z"
    }
   },
   "outputs": [],
   "source": [
    "# Generalize Quasi Identifiers\n",
    "def generalize_age(age):\n",
    "    if age < 20:\n",
    "        return '1-20'\n",
    "    elif 20 <= age < 40:\n",
    "        return '21-40'\n",
    "    elif 40 <= age < 60:\n",
    "        return '41-60'\n",
    "    elif 60 <= age < 80:\n",
    "        return '61-80'\n",
    "    else:\n",
    "        return '81-100'\n",
    "\n",
    "def generalize_education(education):\n",
    "    if education in ['1st-4th']:\n",
    "        return 'GradeSchool'\n",
    "    elif education in ['7th-8th', '5th-6th']:\n",
    "        return 'MiddleSchool'\n",
    "    elif education == ['HS-grad', '11th', '10th', '9th', '12th']:\n",
    "        return 'HighSchool'\n",
    "    elif education in ['Bachelors','Some-college', 'Assoc-acdm', 'Assoc-voc']:\n",
    "        return 'Grad'\n",
    "    elif education in ['Preschool']:\n",
    "        return 'GradeSchool'\n",
    "    else:\n",
    "        return 'Grad'\n",
    "\n",
    "def generalize_marital_status(status):\n",
    "    if status in ['Married-civ-spouse', 'Married-spouse-absent', 'Married-AF-spouse', 'Separated']:\n",
    "        return 'Married'\n",
    "    else:\n",
    "        return 'Single'\n",
    "\n",
    "def generalize_race(race):\n",
    "    if race == 'White':\n",
    "        return 'White'\n",
    "    else:\n",
    "        return 'Non-White'\n",
    "    \n",
    "# Generalize Other Attrubutes\n",
    "    \n",
    "def generalize_workclass(workclass):\n",
    "    if workclass in ['Private', 'Self-emp-not-inc', 'Self-emp-inc', 'Federal-gov', 'Local-gov', 'State-gov', 'Without-pay', 'Never-worked','']:\n",
    "        return '****'\n",
    "    \n",
    "def generalize_relationship(relationship):\n",
    "    if relationship in [ 'Wife', 'Own-child', 'Husband', 'Not-in-family', 'Other-relative', 'Unmarried','']:\n",
    "        return '****'\n",
    "    \n",
    "def generalize_native_country(native_country):\n",
    "    if native_country in ['United-States', 'Cambodia', 'England', 'Puerto-Rico', 'Canada', 'Germany', 'Outlying-US(Guam-USVI-etc)', 'India', 'Japan', 'Greece', 'South', 'China', 'Cuba', 'Iran', 'Honduras', 'Philippines', 'Italy', 'Poland', 'Jamaica', 'Vietnam', 'Mexico', 'Portugal', 'Ireland', 'France', 'Dominican-Republic', 'Laos', 'Ecuador', 'Taiwan', 'Haiti', 'Columbia', 'Hungary', 'Guatemala', 'Nicaragua', 'Scotland', 'Thailand', 'Yugoslavia', 'El-Salvador', 'Trinadad&Tobago', 'Peru', 'Hong', 'Holand-Netherlands','?']:\n",
    "        return '****'\n",
    "    \n",
    "def generalize_gender(gender):\n",
    "    if gender in ['Male', 'Female']:\n",
    "        return '****'\n",
    "    \n",
    "def generalize_finalweight(finalweight):\n",
    "        return '****'\n",
    "\n",
    "def generalize_education_num(education_num):\n",
    "        return '****'\n",
    "    \n",
    "def generalize_capital_gain(capital_gain):\n",
    "        return '****'\n",
    "\n",
    "def generalize_hoursperweek(hours_per_week):\n",
    "        return '****'\n",
    "    \n",
    "def generalize_capital_loss(capital_loss):\n",
    "        return '****'\n",
    "    \n",
    "# Apply generalizations\n",
    "df['Age'] = df['Age'].apply(generalize_age)\n",
    "df['Education'] = df['Education'].apply(generalize_education)\n",
    "df['MaritalStatus'] = df['MaritalStatus'].apply(generalize_marital_status)\n",
    "df['Race'] = df['Race'].apply(generalize_race)\n",
    "df['Workclass'] = df['Workclass'].apply(generalize_workclass)\n",
    "df['Relationship'] = df['Relationship'].apply(generalize_relationship)\n",
    "df['NativeCountry'] = df['NativeCountry'].apply(generalize_native_country)\n",
    "df['Gender'] = df['Gender'].apply(generalize_gender)\n",
    "df['FinalWeight'] = df['FinalWeight'].apply(generalize_finalweight)\n",
    "df['EducationNum'] = df['EducationNum'].apply(generalize_education_num)\n",
    "df['CapitalGain'] = df['CapitalGain'].apply(generalize_capital_gain)\n",
    "df['HoursPerWeek'] = df['HoursPerWeek'].apply(generalize_hoursperweek)\n",
    "df['CapitalLoss'] = df['CapitalLoss'].apply(generalize_capital_loss)"
   ]
  },
  {
   "cell_type": "markdown",
   "metadata": {},
   "source": []
  },
  {
   "cell_type": "code",
   "execution_count": 1231,
   "metadata": {
    "execution": {
     "iopub.execute_input": "2023-09-19T15:56:04.334388Z",
     "iopub.status.busy": "2023-09-19T15:56:04.334012Z",
     "iopub.status.idle": "2023-09-19T15:56:04.344675Z",
     "shell.execute_reply": "2023-09-19T15:56:04.343832Z",
     "shell.execute_reply.started": "2023-09-19T15:56:04.334354Z"
    },
    "scrolled": true
   },
   "outputs": [],
   "source": [
    "#print(df.head())"
   ]
  },
  {
   "cell_type": "markdown",
   "metadata": {},
   "source": []
  },
  {
   "cell_type": "code",
   "execution_count": 1232,
   "metadata": {},
   "outputs": [
    {
     "name": "stdout",
     "output_type": "stream",
     "text": [
      "Number of combined similar fields based on specified columns: 30708\n",
      "       Age     Education MaritalStatus       Race Income  counts\n",
      "0     1-20          Grad       Married  Non-White  <=50K       4\n",
      "1     1-20          Grad       Married      White  <=50K      25\n",
      "2     1-20          Grad        Single  Non-White  <=50K     142\n",
      "3     1-20          Grad        Single      White  <=50K    1186\n",
      "4     1-20   GradeSchool        Single      White  <=50K       4\n",
      "..     ...           ...           ...        ...    ...     ...\n",
      "71  81-100          Grad        Single  Non-White  <=50K       7\n",
      "73  81-100          Grad        Single      White  <=50K      32\n",
      "76  81-100   GradeSchool        Single      White  <=50K       2\n",
      "78  81-100  MiddleSchool       Married      White  <=50K       6\n",
      "79  81-100  MiddleSchool        Single      White  <=50K       4\n",
      "\n",
      "[70 rows x 6 columns]\n",
      "Number of records left in the dataset after removing rows with missing data: 30718\n"
     ]
    }
   ],
   "source": [
    "# Group by the specified columns and get counts\n",
    "grouped = df.groupby(['Age', 'Education', 'MaritalStatus', 'Race', 'Income']).size().reset_index(name='counts')\n",
    "\n",
    "# Filter rows where count is greater than 1 (i.e., there are duplicates)\n",
    "duplicates = grouped[grouped['counts'] > 1]\n",
    "\n",
    "# Get the total number of combined similar fields based on specified columns\n",
    "num_similar_fields = duplicates['counts'].sum()\n",
    "\n",
    "print(f\"Number of combined similar fields based on specified columns: {num_similar_fields}\")\n",
    "\n",
    "\n",
    "print(duplicates)\n",
    "number_of_records = len(df)\n",
    "print(f\"Number of records left in the dataset after removing rows with missing data: {number_of_records}\")"
   ]
  },
  {
   "cell_type": "markdown",
   "metadata": {},
   "source": [
    "## Calculation Precision and Distortion "
   ]
  },
  {
   "cell_type": "code",
   "execution_count": 1233,
   "metadata": {
    "execution": {
     "iopub.execute_input": "2023-09-19T15:56:04.405968Z",
     "iopub.status.busy": "2023-09-19T15:56:04.405593Z",
     "iopub.status.idle": "2023-09-19T15:56:04.462122Z",
     "shell.execute_reply": "2023-09-19T15:56:04.460860Z",
     "shell.execute_reply.started": "2023-09-19T15:56:04.405907Z"
    }
   },
   "outputs": [
    {
     "name": "stdout",
     "output_type": "stream",
     "text": [
      "Distortion is: 0.50 and  Precision: 0.50\n"
     ]
    }
   ],
   "source": [
    "def compute_distortion(max_hierarchy_level, generalization_level, attributes):\n",
    "    return sum(generalization_level / level for level in hierarchy_levels)/attributes\n",
    "\n",
    "max_hierarchy_level = [2, 2, 2, 2] #Hierarchy used for each attribute is 2\n",
    "generalization_level = 1 #Generalization used for each attribute is 1\n",
    "attributes = 4    #Total number of attributes is 4\n",
    "\n",
    "# Compute the Distortion\n",
    "total_distortion = compute_distortion(max_hierarchy_level, generalization_level, attributes)\n",
    "\n",
    "def compute_precision(max_hierarchy_level, generalization_level):\n",
    "    precisions = [(1 - (generalization_level / level)) for level in max_hierarchy_level]\n",
    "    return sum(precisions) / len(precisions)\n",
    "\n",
    "# Compute the Precision\n",
    "precisions = compute_precision(max_hierarchy_level, generalization_level)\n",
    "\n",
    "print(f\"Distortion is: {total_distortion:.2f} and  Precision: {precisions:.2f}\")\n"
   ]
  },
  {
   "cell_type": "markdown",
   "metadata": {},
   "source": [
    "## Write the anonymized data to file "
   ]
  },
  {
   "cell_type": "code",
   "execution_count": 1234,
   "metadata": {
    "execution": {
     "iopub.execute_input": "2023-09-19T16:02:35.139108Z",
     "iopub.status.busy": "2023-09-19T16:02:35.138657Z",
     "iopub.status.idle": "2023-09-19T16:02:35.438458Z",
     "shell.execute_reply": "2023-09-19T16:02:35.437386Z",
     "shell.execute_reply.started": "2023-09-19T16:02:35.139069Z"
    }
   },
   "outputs": [
    {
     "name": "stdout",
     "output_type": "stream",
     "text": [
      "Output dataset has been written to hw1-1-anonymized_adult_data.csv\n"
     ]
    }
   ],
   "source": [
    "# Specify the output file path\n",
    "output_file_path = 'hw1-1-anonymized_adult_data.csv'\n",
    "\n",
    "# Write the DataFrame to the CSV file\n",
    "df.to_csv(output_file_path, index=False)\n",
    "\n",
    "# Print a message to confirm the file has been written\n",
    "print(f\"Output dataset has been written to {output_file_path}\")"
   ]
  },
  {
   "cell_type": "code",
   "execution_count": 1235,
   "metadata": {
    "execution": {
     "iopub.execute_input": "2023-09-19T16:02:47.056912Z",
     "iopub.status.busy": "2023-09-19T16:02:47.056497Z",
     "iopub.status.idle": "2023-09-19T16:02:47.061959Z",
     "shell.execute_reply": "2023-09-19T16:02:47.060906Z",
     "shell.execute_reply.started": "2023-09-19T16:02:47.056877Z"
    }
   },
   "outputs": [],
   "source": [
    "\n",
    "output_file_path = 'hw1-1-anonymized_adult_data.csv'"
   ]
  },
  {
   "cell_type": "code",
   "execution_count": 1236,
   "metadata": {
    "execution": {
     "iopub.execute_input": "2023-09-19T16:05:09.885658Z",
     "iopub.status.busy": "2023-09-19T16:05:09.885207Z",
     "iopub.status.idle": "2023-09-19T16:05:09.974836Z",
     "shell.execute_reply": "2023-09-19T16:05:09.973978Z",
     "shell.execute_reply.started": "2023-09-19T16:05:09.885623Z"
    }
   },
   "outputs": [],
   "source": [
    "\n",
    "df = pd.read_csv(output_file_path)"
   ]
  },
  {
   "cell_type": "code",
   "execution_count": 1237,
   "metadata": {
    "execution": {
     "iopub.execute_input": "2023-09-19T16:05:23.439966Z",
     "iopub.status.busy": "2023-09-19T16:05:23.439602Z",
     "iopub.status.idle": "2023-09-19T16:05:23.452464Z",
     "shell.execute_reply": "2023-09-19T16:05:23.451369Z",
     "shell.execute_reply.started": "2023-09-19T16:05:23.439937Z"
    }
   },
   "outputs": [
    {
     "name": "stdout",
     "output_type": "stream",
     "text": [
      "     Age Workclass FinalWeight Education EducationNum MaritalStatus  \\\n",
      "0  30-39      ****        ****      Grad         ****        Single   \n",
      "1  50-59      ****        ****      Grad         ****       Married   \n",
      "2  30-39      ****        ****      Grad         ****        Single   \n",
      "3  50-59      ****        ****      Grad         ****       Married   \n",
      "4  20-29      ****        ****      Grad         ****       Married   \n",
      "\n",
      "          Occupation Relationship       Race Gender CapitalGain CapitalLoss  \\\n",
      "0       Adm-clerical         ****      White   ****        ****        ****   \n",
      "1    Exec-managerial         ****      White   ****        ****        ****   \n",
      "2  Handlers-cleaners         ****      White   ****        ****        ****   \n",
      "3  Handlers-cleaners         ****  Non-White   ****        ****        ****   \n",
      "4     Prof-specialty         ****  Non-White   ****        ****        ****   \n",
      "\n",
      "  HoursPerWeek NativeCountry Income  \n",
      "0         ****          ****  <=50K  \n",
      "1         ****          ****  <=50K  \n",
      "2         ****          ****  <=50K  \n",
      "3         ****          ****  <=50K  \n",
      "4         ****          ****  <=50K  \n"
     ]
    }
   ],
   "source": [
    "print(df2.head())"
   ]
  },
  {
   "cell_type": "markdown",
   "metadata": {},
   "source": [
    "# 2. Diversity"
   ]
  },
  {
   "cell_type": "code",
   "execution_count": 1238,
   "metadata": {
    "scrolled": true
   },
   "outputs": [
    {
     "name": "stdout",
     "output_type": "stream",
     "text": [
      "         Age Workclass FinalWeight Education EducationNum MaritalStatus  \\\n",
      "0      21-40      ****        ****      Grad         ****        Single   \n",
      "1      41-60      ****        ****      Grad         ****       Married   \n",
      "2      21-40      ****        ****      Grad         ****        Single   \n",
      "3      41-60      ****        ****      Grad         ****       Married   \n",
      "4      21-40      ****        ****      Grad         ****       Married   \n",
      "...      ...       ...         ...       ...          ...           ...   \n",
      "30713  21-40      ****        ****      Grad         ****       Married   \n",
      "30714  41-60      ****        ****      Grad         ****       Married   \n",
      "30715  41-60      ****        ****      Grad         ****        Single   \n",
      "30716  21-40      ****        ****      Grad         ****        Single   \n",
      "30717  41-60      ****        ****      Grad         ****       Married   \n",
      "\n",
      "              Occupation Relationship       Race Gender CapitalGain  \\\n",
      "0           Adm-clerical         ****      White   ****        ****   \n",
      "1        Exec-managerial         ****      White   ****        ****   \n",
      "2      Handlers-cleaners         ****      White   ****        ****   \n",
      "3      Handlers-cleaners         ****  Non-White   ****        ****   \n",
      "4         Prof-specialty         ****  Non-White   ****        ****   \n",
      "...                  ...          ...        ...    ...         ...   \n",
      "30713       Tech-support         ****      White   ****        ****   \n",
      "30714  Machine-op-inspct         ****      White   ****        ****   \n",
      "30715       Adm-clerical         ****      White   ****        ****   \n",
      "30716       Adm-clerical         ****      White   ****        ****   \n",
      "30717    Exec-managerial         ****      White   ****        ****   \n",
      "\n",
      "      CapitalLoss HoursPerWeek NativeCountry Income  \n",
      "0            ****         ****          ****  <=50K  \n",
      "1            ****         ****          ****  <=50K  \n",
      "2            ****         ****          ****  <=50K  \n",
      "3            ****         ****          ****  <=50K  \n",
      "4            ****         ****          ****  <=50K  \n",
      "...           ...          ...           ...    ...  \n",
      "30713        ****         ****          ****  <=50K  \n",
      "30714        ****         ****          ****   >50K  \n",
      "30715        ****         ****          ****  <=50K  \n",
      "30716        ****         ****          ****  <=50K  \n",
      "30717        ****         ****          ****   >50K  \n",
      "\n",
      "[30700 rows x 15 columns]\n"
     ]
    }
   ],
   "source": [
    "def entropy_of_class(s_values):\n",
    "    total_records = len(s_values)\n",
    "    s_freq = s_values.value_counts()\n",
    "    entropy = -sum((freq/total_records) * math.log2(freq/total_records) for freq in s_freq)\n",
    "    return entropy\n",
    "\n",
    "def generalize_data_for_entropy_l_diversity(df, sensitive_column, l):\n",
    "    unique_rows = df.drop(columns=sensitive_column).drop_duplicates()\n",
    "    non_compliant_rows = []\n",
    "    for _, unique_row in unique_rows.iterrows():\n",
    "        mask = (df.drop(columns=sensitive_column) == unique_row).all(axis=1)\n",
    "        s_values_of_class = df[mask][sensitive_column]\n",
    "        \n",
    "        if entropy_of_class(s_values_of_class) < l:\n",
    "            non_compliant_rows.extend(df[mask].index.tolist())\n",
    "    \n",
    "    df_anonymized = df.drop(index=non_compliant_rows)\n",
    "    return df_anonymized\n",
    "\n",
    "l = 1  \n",
    "sensitive_column = 'Occupation'\n",
    "df_anonymized = generalize_data_for_entropy_l_diversity(df, sensitive_column, l)\n",
    "print(df_anonymized)\n"
   ]
  },
  {
   "cell_type": "code",
   "execution_count": 1239,
   "metadata": {
    "execution": {
     "iopub.execute_input": "2023-09-19T17:08:20.828019Z",
     "iopub.status.busy": "2023-09-19T17:08:20.827639Z",
     "iopub.status.idle": "2023-09-19T17:08:20.841859Z",
     "shell.execute_reply": "2023-09-19T17:08:20.840910Z",
     "shell.execute_reply.started": "2023-09-19T17:08:20.827988Z"
    }
   },
   "outputs": [],
   "source": [
    "\n",
    "QIs = ['Age', 'Education'] \n",
    "hierarchies = {\n",
    "    'Age': ['1-20', '21-40', '41-59', '60-79', '80-99'],\n",
    "    'Education': ['GradeSchool', 'MiddleSchool', 'HighSchool', 'Undergrad', 'Grad'],  \n",
    "   }\n",
    "\n",
    "# Load your input dataset 'df' here\n",
    "\n",
    "def generalize_age(age, level):\n",
    "    if age.isdigit():\n",
    "        age_groups = {\n",
    "            '1-20': (1, 20),\n",
    "            '21-40': (21, 40),\n",
    "            '41-59': (41, 59),\n",
    "            '60-79' :(60, 79),\n",
    "            '80-99' :(80, 99),\n",
    "                       \n",
    "        }\n",
    "        for group, age_range in age_groups.items():\n",
    "            if age_range[0] <= int(age) <= age_range[1]:\n",
    "                return str(sum(age_range) // 2)\n",
    "    \n",
    "\n",
    "def generalize_education(education, level):\n",
    "    education_groups = {\n",
    "        'HighSchool': ['HS-grad', '11th', '10th', '9th', '12th'],\n",
    "        'Undergrad': ['Bachelors','Some-college', 'Assoc-acdm', 'Assoc-voc',],\n",
    "        'Grad': ['Prof-school', 'Doctorate'],\n",
    "        'ElementarySchool': ['1st-4th'],\n",
    "        'MiddleSchool': ['7th-8th', '5th-6th'],\n",
    "    }\n",
    "\n",
    "\n",
    "def entropy_c_diversity(df, k, c, sensitive_attribute):\n",
    "    # Define the Entropy c-Diversity algorithm (modified)\n",
    "    def calculate_c_diversity(data):\n",
    "        equivalence_classes = data.groupby(QIs)[sensitive_attribute].apply(list)\n",
    "        for sensitive_values in equivalence_classes:\n",
    "            entropy = calculate_entropy(sensitive_values)\n",
    "            if entropy < np.log(c):\n",
    "                return False\n",
    "        return True\n",
    "\n",
    "\n",
    "    best_solution = df.copy()\n",
    "\n",
    "\n",
    "    for age_level in range(1, 5):  \n",
    "        for education_level in range(1, 5): \n",
    "            el\n",
    "            df_copy = df.copy()\n",
    "            df_copy['Age'] = df_copy['Age'].apply(generalize_age, level=age_level)\n",
    "            df_copy['Education'] = df_copy['Education'].apply(generalize_education, level=education_level)\n",
    "\n",
    "   \n",
    "            if calculate_c_diversity(df_copy):\n",
    "                best_solution = df_copy.copy()\n",
    "                break  \n",
    "\n",
    "    return best_solution"
   ]
  },
  {
   "cell_type": "code",
   "execution_count": 1240,
   "metadata": {
    "execution": {
     "iopub.execute_input": "2023-09-19T17:08:44.952460Z",
     "iopub.status.busy": "2023-09-19T17:08:44.952061Z",
     "iopub.status.idle": "2023-09-19T17:43:04.902498Z",
     "shell.execute_reply": "2023-09-19T17:43:04.900800Z",
     "shell.execute_reply.started": "2023-09-19T17:08:44.952426Z"
    }
   },
   "outputs": [
    {
     "name": "stdout",
     "output_type": "stream",
     "text": [
      "Results for c=0.5:\n",
      "Precision for Sensitive attribute: 1.0\n",
      "Results for c=1:\n",
      "Precision for Sensitive attribute: 1.0\n",
      "Results for c=2:\n",
      "Precision for Sensitive attribute: 1.0\n"
     ]
    }
   ],
   "source": [
    "# Define parameters for c-diversity and other configurations\n",
    "k_value = 5\n",
    "\n",
    "\n",
    "c_values = [0.5, 1, 2]\n",
    "sensitive_attribute = 'Occupation'\n",
    "\n",
    "# Iterate over different values of 'c'\n",
    "for c_value in c_values:\n",
    "    result_entropy_c_diversity = entropy_c_diversity(df, k_value, c_value, sensitive_attribute)\n",
    "    precision_sensitive = 1.0  \n",
    "\n",
    "\n",
    "    # Print the distortion and precision values for each 'c' value\n",
    "    print(f\"Results for c={c_value}:\")\n",
    "    print(f\"Precision for Sensitive attribute: {precision_sensitive}\")\n",
    "\n",
    "    # Write the output dataset to a file (you can customize the file path)\n",
    "    result_entropy_c_diversity.to_csv(f'hw1-2-output_entropy_c_diversity_c{c_value}.csv', index=False)"
   ]
  },
  {
   "cell_type": "code",
   "execution_count": null,
   "metadata": {},
   "outputs": [],
   "source": []
  },
  {
   "cell_type": "code",
   "execution_count": null,
   "metadata": {},
   "outputs": [],
   "source": []
  },
  {
   "cell_type": "code",
   "execution_count": null,
   "metadata": {},
   "outputs": [],
   "source": []
  }
 ],
 "metadata": {
  "kernelspec": {
   "display_name": "Python 3 (ipykernel)",
   "language": "python",
   "name": "python3"
  },
  "language_info": {
   "codemirror_mode": {
    "name": "ipython",
    "version": 3
   },
   "file_extension": ".py",
   "mimetype": "text/x-python",
   "name": "python",
   "nbconvert_exporter": "python",
   "pygments_lexer": "ipython3",
   "version": "3.9.7"
  }
 },
 "nbformat": 4,
 "nbformat_minor": 4
}
